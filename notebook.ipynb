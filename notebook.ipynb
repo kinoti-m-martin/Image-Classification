{
 "cells": [
  {
   "cell_type": "markdown",
   "metadata": {},
   "source": [
    "## `Animal Recognition`"
   ]
  },
  {
   "cell_type": "code",
   "execution_count": 95,
   "metadata": {},
   "outputs": [],
   "source": [
    "# Import the relevant libraries\n",
    "import pandas as pd \n",
    "import numpy as np \n",
    "import seaborn as sns\n",
    "import matplotlib.pyplot as plt \n",
    "%matplotlib inline\n",
    "import cv2 as cv\n",
    "\n",
    "from sklearn.preprocessing import LabelEncoder\n",
    "from tensorflow.keras.preprocessing.image import ImageDataGenerator\n",
    "from tensorflow.keras import optimizers, layers, regularizers\n",
    "from tensorflow.keras.models import Sequential\n",
    "from tensorflow.keras.utils import img_to_array, array_to_img, load_img\n",
    "from tensorflow.keras.metrics import Precision, Recall"
   ]
  },
  {
   "cell_type": "code",
   "execution_count": 3,
   "metadata": {},
   "outputs": [],
   "source": [
    "# Train & Test directories\n",
    "train_dir = \"archive/train\"\n",
    "test_dir = \"archive/test\""
   ]
  },
  {
   "cell_type": "code",
   "execution_count": 4,
   "metadata": {},
   "outputs": [
    {
     "name": "stdout",
     "output_type": "stream",
     "text": [
      "Found 22566 images belonging to 80 classes.\n",
      "Found 6505 images belonging to 80 classes.\n"
     ]
    }
   ],
   "source": [
    "# Define ImageDataGenerator and specify augmentation parameters if needed\n",
    "train_datagen = ImageDataGenerator(rescale=1./255)\n",
    "test_datagen = ImageDataGenerator(rescale=1./255)\n",
    "\n",
    "# Load and augment the data\n",
    "train_generator = train_datagen.flow_from_directory(\n",
    "    train_dir,\n",
    "    target_size=(64, 64),  # Set target size for images\n",
    "    batch_size=22500,\n",
    "    class_mode='categorical'  # Use 'categorical' for multi-class classification\n",
    ")\n",
    "\n",
    "test_generator = test_datagen.flow_from_directory(\n",
    "    test_dir,\n",
    "    target_size=(64,64),\n",
    "    batch_size=6500,\n",
    "    class_mode = 'categorical'\n",
    ")\n",
    "\n",
    "# Dataset\n",
    "train_imgs, train_label = next(train_generator)\n",
    "test_imgs, test_label = next(test_generator)"
   ]
  },
  {
   "cell_type": "code",
   "execution_count": 13,
   "metadata": {},
   "outputs": [
    {
     "data": {
      "image/png": "[encoded data removed]",
      "text/plain": [
       "<PIL.Image.Image image mode=RGB size=64x64>"
      ]
     },
     "execution_count": 13,
     "metadata": {},
     "output_type": "execute_result"
    }
   ],
   "source": [
    "# Inspect image on index 20\n",
    "array_to_img(train_imgs[20])"
   ]
  },
  {
   "cell_type": "code",
   "execution_count": 6,
   "metadata": {},
   "outputs": [
    {
     "data": {
      "text/plain": [
       "(({'train_images_shape:': (22500, 64, 64, 3)},\n",
       "  {'test_images_shape:': (6500, 64, 64, 3)}),\n",
       " ({'train_labels_shape:': (22500, 80)}, {'test_labels_shape:': (6500, 80)}))"
      ]
     },
     "execution_count": 6,
     "metadata": {},
     "output_type": "execute_result"
    }
   ],
   "source": [
    "# Function for getting dataset shapes\n",
    "class Shape():\n",
    "    \"\"\"Primary parameters\"\"\"\n",
    "    def __init__(self, train_images, train_labels, test_images, test_labels):\n",
    "        self.train_images = train_images\n",
    "        self.train_labels = train_labels\n",
    "        self.test_images = test_images\n",
    "        self.test_labels = test_labels\n",
    "   \n",
    "    \"\"\"Function for images\"\"\"\n",
    "    def image_shape(self):\n",
    "        # Return  the outputs\n",
    "        return {\"train_images_shape:\":self.train_images.shape},{\"test_images_shape:\":self.test_images.shape}\n",
    "       \n",
    "    \"\"\"Function for labels\"\"\"\n",
    "    def label_shape(self):\n",
    "        # Return the outputs\n",
    "        return {\"train_labels_shape:\":self.train_labels.shape},{\"test_labels_shape:\":self.test_labels.shape}\n",
    "\n",
    "    \"\"\"For both outputs\"\"\"\n",
    "    def output(self):\n",
    "        return self.image_shape(), self.label_shape()\n",
    "    \n",
    "# Apply the function on the data\n",
    "data_shape = Shape(train_imgs, train_label, test_imgs, test_label)\n",
    "data_shape.output()"
   ]
  },
  {
   "cell_type": "code",
   "execution_count": 7,
   "metadata": {},
   "outputs": [
    {
     "data": {
      "text/plain": [
       "({'train_images_shape:': (22500, 12288)},\n",
       " {'test_images_shape:': (6500, 12288)})"
      ]
     },
     "execution_count": 7,
     "metadata": {},
     "output_type": "execute_result"
    }
   ],
   "source": [
    "# Reshape the images \n",
    "train_imgs_reshaped = train_imgs.reshape(22500, -1)\n",
    "test_imgs_reshaped = test_imgs.reshape(6500, -1)\n",
    "\n",
    "# Inspect\n",
    "imgs_shape = Shape(train_imgs_reshaped, train_label, test_imgs_reshaped, test_label)\n",
    "imgs_shape.image_shape()"
   ]
  },
  {
   "cell_type": "markdown",
   "metadata": {},
   "source": [
    "- `Inspect the labels`"
   ]
  },
  {
   "cell_type": "code",
   "execution_count": 8,
   "metadata": {},
   "outputs": [
    {
     "name": "stdout",
     "output_type": "stream",
     "text": [
      "Train Labels:\n"
     ]
    },
    {
     "data": {
      "text/plain": [
       "array([[0., 0., 0., 0., 0., 0., 0., 0., 0., 0., 0., 0., 0., 0., 0., 1.,\n",
       "        0., 0., 0., 0., 0., 0., 0., 0., 0., 0., 0., 0., 0., 0., 0., 0.,\n",
       "        0., 0., 0., 0., 0., 0., 0., 0., 0., 0., 0., 0., 0., 0., 0., 0.,\n",
       "        0., 0., 0., 0., 0., 0., 0., 0., 0., 0., 0., 0., 0., 0., 0., 0.,\n",
       "        0., 0., 0., 0., 0., 0., 0., 0., 0., 0., 0., 0., 0., 0., 0., 0.],\n",
       "       [0., 0., 0., 0., 0., 0., 0., 0., 0., 0., 0., 0., 0., 0., 0., 0.,\n",
       "        0., 0., 0., 0., 0., 0., 0., 0., 0., 0., 0., 0., 0., 0., 0., 0.,\n",
       "        0., 0., 0., 1., 0., 0., 0., 0., 0., 0., 0., 0., 0., 0., 0., 0.,\n",
       "        0., 0., 0., 0., 0., 0., 0., 0., 0., 0., 0., 0., 0., 0., 0., 0.,\n",
       "        0., 0., 0., 0., 0., 0., 0., 0., 0., 0., 0., 0., 0., 0., 0., 0.],\n",
       "       [0., 0., 0., 0., 0., 0., 0., 0., 0., 0., 0., 0., 0., 0., 0., 0.,\n",
       "        0., 0., 0., 0., 0., 0., 0., 0., 0., 0., 0., 0., 0., 0., 0., 0.,\n",
       "        0., 0., 0., 0., 0., 0., 0., 0., 0., 0., 0., 0., 0., 0., 0., 0.,\n",
       "        0., 0., 0., 0., 0., 0., 0., 0., 0., 0., 0., 0., 0., 0., 0., 0.,\n",
       "        0., 0., 0., 0., 0., 0., 0., 0., 0., 0., 0., 0., 1., 0., 0., 0.],\n",
       "       [0., 0., 0., 0., 0., 0., 0., 0., 0., 0., 0., 0., 0., 0., 0., 1.,\n",
       "        0., 0., 0., 0., 0., 0., 0., 0., 0., 0., 0., 0., 0., 0., 0., 0.,\n",
       "        0., 0., 0., 0., 0., 0., 0., 0., 0., 0., 0., 0., 0., 0., 0., 0.,\n",
       "        0., 0., 0., 0., 0., 0., 0., 0., 0., 0., 0., 0., 0., 0., 0., 0.,\n",
       "        0., 0., 0., 0., 0., 0., 0., 0., 0., 0., 0., 0., 0., 0., 0., 0.],\n",
       "       [0., 0., 0., 0., 0., 0., 0., 0., 0., 0., 0., 0., 0., 0., 0., 0.,\n",
       "        0., 0., 0., 0., 0., 0., 0., 0., 0., 0., 0., 0., 1., 0., 0., 0.,\n",
       "        0., 0., 0., 0., 0., 0., 0., 0., 0., 0., 0., 0., 0., 0., 0., 0.,\n",
       "        0., 0., 0., 0., 0., 0., 0., 0., 0., 0., 0., 0., 0., 0., 0., 0.,\n",
       "        0., 0., 0., 0., 0., 0., 0., 0., 0., 0., 0., 0., 0., 0., 0., 0.]],\n",
       "      dtype=float32)"
      ]
     },
     "execution_count": 8,
     "metadata": {},
     "output_type": "execute_result"
    }
   ],
   "source": [
    "print(\"Train Labels:\")\n",
    "train_label[:5]"
   ]
  },
  {
   "cell_type": "code",
   "execution_count": 64,
   "metadata": {},
   "outputs": [],
   "source": [
    "# Specific data labels using train_indices of the generator\n",
    "class_indices_train = train_generator.class_indices\n",
    "class_indices_test = test_generator.class_indices"
   ]
  },
  {
   "cell_type": "code",
   "execution_count": 66,
   "metadata": {},
   "outputs": [
    {
     "name": "stdout",
     "output_type": "stream",
     "text": [
      "train set decoded: ['Eagle', 'Lion', 'Whale', 'Eagle', 'Horse']\n",
      "test set decoded: ['Goat', 'Ostrich', 'Tortoise', 'Spider', 'Polar bear']\n"
     ]
    }
   ],
   "source": [
    "# Reverse one-hot-encoding\n",
    "decoded_train = np.argmax(train_label, axis=1)\n",
    "decoded_test = np.argmax(test_label, axis=1)\n",
    "                    \n",
    "# Class labels\n",
    "class_labels = [\n",
    "   'Bear', 'Brown bear', 'Bull', 'Butterfly', 'Camel', 'Canary', 'Caterpillar', 'Cattle', \n",
    "   'Centipede', 'Cheetah', 'Chicken', 'Crab', 'Crocodile', 'Deer', 'Duck', 'Eagle', 'Elephant',\n",
    "    'Fish', 'Fox', 'Frog', 'Giraffe', 'Goat', 'Goldfish', 'Goose', 'Hamster', 'Harbor seal', \n",
    "    'Hedgehog', 'Hippopotamus', 'Horse', 'Jaguar', 'Jellyfish', 'Kangaroo', 'Koala', 'Ladybug', \n",
    "    'Leopard', 'Lion', 'Lizard', 'Lynx', 'Magpie', 'Monkey', 'Moths and butterflies', 'Mouse', \n",
    "    'Mule', 'Ostrich', 'Otter', 'Owl', 'Panda', 'Parrot', 'Penguin', 'Pig', 'Polar bear', \n",
    "    'Rabbit', 'Raccoon', 'Raven', 'Red panda', 'Rhinoceros', 'Scorpion', 'Sea lion', \n",
    "    'Sea turtle', 'Seahorse', 'Shark', 'Sheep', 'Shrimp', 'Snail', 'Snake', 'Sparrow', 'Spider', \n",
    "    'Squid', 'Squirrel', 'Starfish', 'Swan', 'Tick', 'Tiger', 'Tortoise', 'Turkey', 'Turtle', \n",
    "    'Whale', 'Woodpecker', 'Worm', 'Zebra'\n",
    "    ]\n",
    "\n",
    "# Mapping indices back to labels\n",
    "decoded_labels_train= [class_labels[index] for index in decoded_train]\n",
    "decoded_labels_test = [class_labels[index] for index in decoded_test]\n",
    "\n",
    "print(\"train set decoded:\", decoded_labels_train[:5]) # Display the first 5 decoded labels\n",
    "print(\"test set decoded:\", decoded_labels_test[:5])"
   ]
  },
  {
   "cell_type": "code",
   "execution_count": 68,
   "metadata": {},
   "outputs": [
    {
     "data": {
      "text/plain": [
       "{'Butterfly': 1866,\n",
       " 'Moths and butterflies': 1427,\n",
       " 'Lizard': 1195,\n",
       " 'Spider': 856,\n",
       " 'Fish': 832,\n",
       " 'Monkey': 768,\n",
       " 'Eagle': 719,\n",
       " 'Frog': 586,\n",
       " 'Snake': 561,\n",
       " 'Duck': 540}"
      ]
     },
     "execution_count": 68,
     "metadata": {},
     "output_type": "execute_result"
    }
   ],
   "source": [
    "# Label counts\n",
    "label_counts = {label:decoded_labels_train.count(label) for label in set(decoded_labels_train)}\n",
    "\n",
    "# Sort the labels\n",
    "sorted__top_labels = sorted(label_counts, key=label_counts.get, reverse=True)[:10]\n",
    "sorted_counts = {label:label_counts[label] for label in sorted__top_labels}\n",
    "sorted_counts"
   ]
  },
  {
   "cell_type": "code",
   "execution_count": 69,
   "metadata": {},
   "outputs": [
    {
     "data": {
      "image/png": "[encoded data removed]",
      "text/plain": [
       "<Figure size 1000x600 with 1 Axes>"
      ]
     },
     "metadata": {},
     "output_type": "display_data"
    }
   ],
   "source": [
    "# Visualize the number of each image classification\n",
    "fig, ax = plt.subplots(figsize=(10,6))\n",
    "\n",
    "# Label distribution\n",
    "labels = list(sorted_counts.keys())\n",
    "counts = list(sorted_counts.values())\n",
    "sns.barplot(x=labels, y=counts)\n",
    "ax.set_xlabel(\"Label\")\n",
    "ax.set_ylabel(\"Counts\")\n",
    "ax.set_title(\"Distribution of Top 10 labels\")\n",
    "ax.tick_params(axis=\"x\", labelrotation=45)"
   ]
  },
  {
   "cell_type": "markdown",
   "metadata": {},
   "source": [
    "- `The most frequent class in the traning set is for Butterfly as shown in the distribution above.`"
   ]
  },
  {
   "cell_type": "markdown",
   "metadata": {},
   "source": [
    "## `Data Preprocessing`"
   ]
  },
  {
   "cell_type": "code",
   "execution_count": 77,
   "metadata": {},
   "outputs": [],
   "source": [
    "# Label encoding\n",
    "encoder = LabelEncoder()\n",
    "train_label_final = encoder.fit_transform(decoded_labels_train).reshape(-1,1)\n",
    "test_label_final = encoder.transform(decoded_labels_test).reshape(-1,1)"
   ]
  },
  {
   "cell_type": "code",
   "execution_count": 80,
   "metadata": {},
   "outputs": [
    {
     "data": {
      "text/plain": [
       "({'train_labels_shape:': (22500, 1)}, {'test_labels_shape:': (6500, 1)})"
      ]
     },
     "execution_count": 80,
     "metadata": {},
     "output_type": "execute_result"
    }
   ],
   "source": [
    "# Apply the labe function to check on data shape\n",
    "label_shape = Shape(train_imgs_reshaped, train_label_final, train_imgs_reshaped, test_label_final)\n",
    "label_shape.label_shape()"
   ]
  },
  {
   "cell_type": "markdown",
   "metadata": {},
   "source": [
    "- `The data is now ready for modelling.`"
   ]
  },
  {
   "cell_type": "markdown",
   "metadata": {},
   "source": [
    "## `Modelling`"
   ]
  },
  {
   "cell_type": "markdown",
   "metadata": {},
   "source": [
    "- `1. Baseline Dense Neural Net`"
   ]
  },
  {
   "cell_type": "code",
   "execution_count": 96,
   "metadata": {},
   "outputs": [
    {
     "name": "stderr",
     "output_type": "stream",
     "text": [
      "2023-12-12 22:03:54.707684: W tensorflow/tsl/framework/cpu_allocator_impl.cc:83] Allocation of 1105920000 exceeds 10% of free system memory.\n"
     ]
    },
    {
     "name": "stdout",
     "output_type": "stream",
     "text": [
      "Epoch 1/5\n"
     ]
    },
    {
     "name": "stderr",
     "output_type": "stream",
     "text": [
      "/home/kinoti/anaconda3/lib/python3.11/site-packages/tensorflow/python/util/dispatch.py:1260: SyntaxWarning: In loss categorical_crossentropy, expected y_pred.shape to be (batch_size, num_classes) with num_classes > 1. Received: y_pred.shape=(15, 1). Consider using 'binary_crossentropy' if you only have 2 classes.\n",
      "  return dispatch_target(*args, **kwargs)\n"
     ]
    },
    {
     "name": "stdout",
     "output_type": "stream",
     "text": [
      "1500/1500 [==============================] - ETA: 0s - loss: 0.0000e+00 - precision: 0.9961"
     ]
    },
    {
     "name": "stderr",
     "output_type": "stream",
     "text": [
      "2023-12-12 22:04:23.617090: W tensorflow/tsl/framework/cpu_allocator_impl.cc:83] Allocation of 319488000 exceeds 10% of free system memory.\n",
      "/home/kinoti/anaconda3/lib/python3.11/site-packages/tensorflow/python/util/dispatch.py:1260: SyntaxWarning: In loss categorical_crossentropy, expected y_pred.shape to be (batch_size, num_classes) with num_classes > 1. Received: y_pred.shape=(None, 1). Consider using 'binary_crossentropy' if you only have 2 classes.\n",
      "  return dispatch_target(*args, **kwargs)\n"
     ]
    },
    {
     "name": "stdout",
     "output_type": "stream",
     "text": [
      "1500/1500 [==============================] - 29s 19ms/step - loss: 0.0000e+00 - precision: 0.9961 - val_loss: 0.0000e+00 - val_precision: 0.9940\n",
      "Epoch 2/5\n",
      "1500/1500 [==============================] - 20s 14ms/step - loss: 0.0000e+00 - precision: 0.9961 - val_loss: 0.0000e+00 - val_precision: 0.9940\n",
      "Epoch 3/5\n",
      "1500/1500 [==============================] - 20s 13ms/step - loss: 0.0000e+00 - precision: 0.9961 - val_loss: 0.0000e+00 - val_precision: 0.9940\n",
      "Epoch 4/5\n",
      "1500/1500 [==============================] - 20s 13ms/step - loss: 0.0000e+00 - precision: 0.9961 - val_loss: 0.0000e+00 - val_precision: 0.9940\n",
      "Epoch 5/5\n",
      "1500/1500 [==============================] - 21s 14ms/step - loss: 0.0000e+00 - precision: 0.9961 - val_loss: 0.0000e+00 - val_precision: 0.9940\n"
     ]
    }
   ],
   "source": [
    "# Sequential model\n",
    "model = Sequential() \n",
    "\n",
    "# Input layer with 80 layers and sigmoid activation function\n",
    "model.add(layers.Dense(80, activation=\"sigmoid\", input_shape=(12288,)))\n",
    "\n",
    "# Hidden layer of 100 units\n",
    "model.add(layers.Dense(100, activation=\"sigmoid\"))\n",
    "\n",
    "# Output layer\n",
    "model.add(layers.Dense(1, activation=\"sigmoid\"))\n",
    "\n",
    "# Compile the model\n",
    "model.compile(optimizer=\"adam\",\n",
    "              loss=\"categorical_crossentropy\",\n",
    "              metrics=[Precision()]\n",
    "              )\n",
    "\n",
    "# Fit the model\n",
    "results = model.fit(train_imgs_reshaped,\n",
    "                    train_label_final,\n",
    "                    batch_size=15,\n",
    "                    epochs=5,\n",
    "                    validation_data=(test_imgs_reshaped, test_label_final)\n",
    "                    )"
   ]
  },
  {
   "cell_type": "markdown",
   "metadata": {},
   "source": [
    "- `The baseline model is performing well but is slightly overfitting the training data.`"
   ]
  },
  {
   "cell_type": "code",
   "execution_count": null,
   "metadata": {},
   "outputs": [],
   "source": [
    "# Visualize the results\n",
    "history = results.history()"
   ]
  },
  {
   "cell_type": "code",
   "execution_count": null,
   "metadata": {},
   "outputs": [],
   "source": []
  },
  {
   "cell_type": "code",
   "execution_count": null,
   "metadata": {},
   "outputs": [],
   "source": []
  },
  {
   "cell_type": "code",
   "execution_count": null,
   "metadata": {},
   "outputs": [],
   "source": []
  }
 ],
 "metadata": {
  "kernelspec": {
   "display_name": "base",
   "language": "python",
   "name": "python3"
  },
  "language_info": {
   "codemirror_mode": {
    "name": "ipython",
    "version": 3
   },
   "file_extension": ".py",
   "mimetype": "text/x-python",
   "name": "python",
   "nbconvert_exporter": "python",
   "pygments_lexer": "ipython3",
   "version": "3.11.4"
  }
 },
 "nbformat": 4,
 "nbformat_minor": 2
}
